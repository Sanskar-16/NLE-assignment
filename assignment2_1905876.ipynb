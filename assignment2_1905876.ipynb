{
 "cells": [
  {
   "cell_type": "markdown",
   "source": [
    "# Necessary imports"
   ],
   "metadata": {
    "collapsed": false
   }
  },
  {
   "cell_type": "code",
   "execution_count": 58,
   "metadata": {
    "collapsed": true
   },
   "outputs": [],
   "source": [
    "import tensorflow as tf\n",
    "import pandas as pd\n",
    "import numpy as np"
   ]
  },
  {
   "cell_type": "markdown",
   "source": [
    "# Reading the file using pandas"
   ],
   "metadata": {
    "collapsed": false
   }
  },
  {
   "cell_type": "code",
   "execution_count": 59,
   "outputs": [],
   "source": [
    "filename = 'IMDB Dataset.csv'\n",
    "df = pd.read_csv(filename, index_col=False)"
   ],
   "metadata": {
    "collapsed": false,
    "pycharm": {
     "name": "#%%\n"
    }
   }
  },
  {
   "cell_type": "markdown",
   "source": [
    "# Dimensional analysis of the data."
   ],
   "metadata": {
    "collapsed": false
   }
  },
  {
   "cell_type": "code",
   "execution_count": 60,
   "outputs": [
    {
     "data": {
      "text/plain": "(50000, 2)"
     },
     "execution_count": 60,
     "metadata": {},
     "output_type": "execute_result"
    }
   ],
   "source": [
    "df.shape"
   ],
   "metadata": {
    "collapsed": false,
    "pycharm": {
     "name": "#%%\n"
    }
   }
  },
  {
   "cell_type": "markdown",
   "source": [
    "# Analysis of the sentiment column resulting in 50-50 split."
   ],
   "metadata": {
    "collapsed": false
   }
  },
  {
   "cell_type": "code",
   "execution_count": 61,
   "outputs": [
    {
     "data": {
      "text/plain": "positive    25000\nnegative    25000\nName: sentiment, dtype: int64"
     },
     "execution_count": 61,
     "metadata": {},
     "output_type": "execute_result"
    }
   ],
   "source": [
    "df['sentiment'].value_counts()"
   ],
   "metadata": {
    "collapsed": false,
    "pycharm": {
     "name": "#%%\n"
    }
   }
  },
  {
   "cell_type": "markdown",
   "source": [
    "# Reading the text completely."
   ],
   "metadata": {
    "collapsed": false
   }
  },
  {
   "cell_type": "code",
   "execution_count": 62,
   "outputs": [
    {
     "name": "stdout",
     "output_type": "stream",
     "text": [
      "Review : \n",
      "\n",
      "One of the other reviewers has mentioned that after watching just 1 Oz episode you'll be hooked. They are right, as this is exactly what happened with me.<br /><br />The first thing that struck me about Oz was its brutality and unflinching scenes of violence, which set in right from the word GO. Trust me, this is not a show for the faint hearted or timid. This show pulls no punches with regards to drugs, sex or violence. Its is hardcore, in the classic use of the word.<br /><br />It is called OZ as that is the nickname given to the Oswald Maximum Security State Penitentary. It focuses mainly on Emerald City, an experimental section of the prison where all the cells have glass fronts and face inwards, so privacy is not high on the agenda. Em City is home to many..Aryans, Muslims, gangstas, Latinos, Christians, Italians, Irish and more....so scuffles, death stares, dodgy dealings and shady agreements are never far away.<br /><br />I would say the main appeal of the show is due to the fact that it goes where other shows wouldn't dare. Forget pretty pictures painted for mainstream audiences, forget charm, forget romance...OZ doesn't mess around. The first episode I ever saw struck me as so nasty it was surreal, I couldn't say I was ready for it, but as I watched more, I developed a taste for Oz, and got accustomed to the high levels of graphic violence. Not just violence, but injustice (crooked guards who'll be sold out for a nickel, inmates who'll kill on order and get away with it, well mannered, middle class inmates being turned into prison bitches due to their lack of street skills or prison experience) Watching Oz, you may become comfortable with what is uncomfortable viewing....thats if you can get in touch with your darker side. \n",
      " \n",
      "Label  : positive\n"
     ]
    }
   ],
   "source": [
    "print(f\"Review : \\n\\n{df.review.iloc[0]} \\n \")\n",
    "print(f\"Label  : {df.sentiment.iloc[0]}\")"
   ],
   "metadata": {
    "collapsed": false,
    "pycharm": {
     "name": "#%%\n"
    }
   }
  },
  {
   "cell_type": "markdown",
   "source": [
    "# Preparing data for splitting and dropping index column in test section."
   ],
   "metadata": {
    "collapsed": false
   }
  },
  {
   "cell_type": "code",
   "execution_count": 63,
   "outputs": [
    {
     "name": "stdout",
     "output_type": "stream",
     "text": [
      "Train data shape: (40000, 2)\n",
      "Test  data shape: (10000, 2)\n"
     ]
    }
   ],
   "source": [
    "df['sentiment'] = df['sentiment'].map({'positive':0,'negative':1})\n",
    "\n",
    "train_df = df.sample(frac=0.8,random_state=100)\n",
    "test_df = df.drop(train_df.index)\n",
    "\n",
    "print(f\"Train data shape: {train_df.shape}\")\n",
    "print(f\"Test  data shape: {test_df.shape}\")"
   ],
   "metadata": {
    "collapsed": false,
    "pycharm": {
     "name": "#%%\n"
    }
   }
  },
  {
   "cell_type": "markdown",
   "source": [
    "# Checking the difference between the train and test data."
   ],
   "metadata": {
    "collapsed": false
   }
  },
  {
   "cell_type": "code",
   "execution_count": 64,
   "outputs": [
    {
     "name": "stdout",
     "output_type": "stream",
     "text": [
      "                                                  review  sentiment\n",
      "9      If you like original gut wrenching laughter yo...          0\n",
      "27     This film tried to be too many things all at o...          1\n",
      "28     This movie was so frustrating. Everything seem...          1\n",
      "40     It had all the clichés of movies of this type ...          1\n",
      "44     This movie struck home for me. Being 29, I rem...          0\n",
      "...                                                  ...        ...\n",
      "49956  Lord, this sucked. There's a particular sort o...          1\n",
      "49958  As someone who loves baseball history, especia...          1\n",
      "49980  A stunning film of high quality.<br /><br />Ap...          0\n",
      "49988  When I first tuned in on this morning news, I ...          1\n",
      "49994  This is your typical junk comedy.<br /><br />T...          1\n",
      "\n",
      "[10000 rows x 2 columns]\n"
     ]
    }
   ],
   "source": [
    "print(test_df)"
   ],
   "metadata": {
    "collapsed": false,
    "pycharm": {
     "name": "#%%\n"
    }
   }
  },
  {
   "cell_type": "markdown",
   "source": [
    "# Word Tokenizing and counting the word index, ultimately leading to the shape."
   ],
   "metadata": {
    "collapsed": false
   }
  },
  {
   "cell_type": "code",
   "execution_count": 65,
   "outputs": [
    {
     "name": "stdout",
     "output_type": "stream",
     "text": [
      "Train data shape: (40000, 100)\n",
      "Test  data shape: (10000, 100)\n"
     ]
    }
   ],
   "source": [
    "tokenizer  = tf.keras.preprocessing.text.Tokenizer(num_words=8000)\n",
    "tokenizer.fit_on_texts(np.append(train_df.review.values,test_df.review.values))\n",
    "\n",
    "word_index = tokenizer.word_index\n",
    "nb_words = len(word_index) + 1\n",
    "\n",
    "train_seq = tokenizer.texts_to_sequences(train_df.review)\n",
    "test_seq = tokenizer.texts_to_sequences(test_df.review)\n",
    "\n",
    "train_data = tf.keras.preprocessing.sequence.pad_sequences(train_seq, maxlen=100)\n",
    "test_data = tf.keras.preprocessing.sequence.pad_sequences(test_seq, maxlen=100)\n",
    "\n",
    "print(f\"Train data shape: {train_data.shape}\")\n",
    "print(f\"Test  data shape: {test_data.shape}\")"
   ],
   "metadata": {
    "collapsed": false,
    "pycharm": {
     "name": "#%%\n"
    }
   }
  },
  {
   "cell_type": "code",
   "execution_count": 66,
   "outputs": [
    {
     "data": {
      "text/plain": "124252"
     },
     "execution_count": 66,
     "metadata": {},
     "output_type": "execute_result"
    }
   ],
   "source": [
    "len(word_index)"
   ],
   "metadata": {
    "collapsed": false,
    "pycharm": {
     "name": "#%%\n"
    }
   }
  },
  {
   "cell_type": "code",
   "execution_count": 67,
   "outputs": [],
   "source": [
    "train_label = train_df.sentiment.values\n",
    "test_label = test_df.sentiment.values"
   ],
   "metadata": {
    "collapsed": false,
    "pycharm": {
     "name": "#%%\n"
    }
   }
  },
  {
   "cell_type": "markdown",
   "source": [
    "# Defining the model"
   ],
   "metadata": {
    "collapsed": false
   }
  },
  {
   "cell_type": "code",
   "execution_count": 68,
   "outputs": [
    {
     "name": "stdout",
     "output_type": "stream",
     "text": [
      "Model: \"sequential_3\"\n",
      "_________________________________________________________________\n",
      "Layer (type)                 Output Shape              Param #   \n",
      "=================================================================\n",
      "embedding_3 (Embedding)      (None, None, 128)         15904384  \n",
      "_________________________________________________________________\n",
      "global_average_pooling1d_3 ( (None, 128)               0         \n",
      "_________________________________________________________________\n",
      "dense_6 (Dense)              (None, 64)                8256      \n",
      "_________________________________________________________________\n",
      "dense_7 (Dense)              (None, 1)                 65        \n",
      "=================================================================\n",
      "Total params: 15,912,705\n",
      "Trainable params: 15,912,705\n",
      "Non-trainable params: 0\n",
      "_________________________________________________________________\n"
     ]
    }
   ],
   "source": [
    "def create_model():\n",
    "    model = tf.keras.Sequential([\n",
    "        tf.keras.layers.Embedding(nb_words, 128),\n",
    "        tf.keras.layers.GlobalAveragePooling1D(),\n",
    "        tf.keras.layers.Dense(64,activation='relu'),\n",
    "        tf.keras.layers.Dense(1)])\n",
    "\n",
    "    model.compile(optimizer='adam',\n",
    "                  loss=tf.losses.BinaryCrossentropy(from_logits=True),\n",
    "                  metrics=['accuracy'])\n",
    "\n",
    "    return model\n",
    "\n",
    "model = create_model()\n",
    "model.summary()"
   ],
   "metadata": {
    "collapsed": false,
    "pycharm": {
     "name": "#%%\n"
    }
   }
  },
  {
   "cell_type": "markdown",
   "source": [
    "# Defing the callback and the fitting the model on training data."
   ],
   "metadata": {
    "collapsed": false
   }
  },
  {
   "cell_type": "code",
   "execution_count": 69,
   "outputs": [
    {
     "name": "stdout",
     "output_type": "stream",
     "text": [
      "Epoch 1/5\n",
      "313/313 [==============================] - 88s 281ms/step - loss: 0.4404 - accuracy: 0.7436 - val_loss: 0.3177 - val_accuracy: 0.8519\n",
      "Epoch 2/5\n",
      "313/313 [==============================] - 91s 291ms/step - loss: 0.2757 - accuracy: 0.8798 - val_loss: 0.3187 - val_accuracy: 0.8522\n",
      "Epoch 3/5\n",
      "313/313 [==============================] - 95s 302ms/step - loss: 0.2467 - accuracy: 0.8947 - val_loss: 0.3281 - val_accuracy: 0.8547\n",
      "Epoch 4/5\n",
      "313/313 [==============================] - 122s 390ms/step - loss: 0.2304 - accuracy: 0.9029 - val_loss: 0.3526 - val_accuracy: 0.8545\n",
      "Epoch 5/5\n",
      "313/313 [==============================] - ETA: 0s - loss: 0.2204 - accuracy: 0.9080Restoring model weights from the end of the best epoch.\n",
      "313/313 [==============================] - 86s 273ms/step - loss: 0.2204 - accuracy: 0.9080 - val_loss: 0.3734 - val_accuracy: 0.8503\n",
      "Epoch 00005: early stopping\n"
     ]
    },
    {
     "data": {
      "text/plain": "<tensorflow.python.keras.callbacks.History at 0x250234cb070>"
     },
     "execution_count": 69,
     "metadata": {},
     "output_type": "execute_result"
    }
   ],
   "source": [
    "call_back = [tf.keras.callbacks.EarlyStopping(monitor=\"val_accuracy\",patience=2,\n",
    "                                              verbose=1,restore_best_weights=True)]\n",
    "\n",
    "model.fit(train_data, train_label, epochs=5, batch_size=128,\n",
    "          validation_data = (test_data,test_label),\n",
    "          callbacks=call_back)"
   ],
   "metadata": {
    "collapsed": false,
    "pycharm": {
     "name": "#%%\n"
    }
   }
  },
  {
   "cell_type": "markdown",
   "source": [
    "# Evaluating the model on the test data."
   ],
   "metadata": {
    "collapsed": false
   }
  },
  {
   "cell_type": "code",
   "execution_count": 70,
   "outputs": [
    {
     "name": "stdout",
     "output_type": "stream",
     "text": [
      "313/313 [==============================] - 1s 4ms/step - loss: 0.3281 - accuracy: 0.8547\n",
      "Accuracy : 0.8547000288963318\n",
      "Loss     : 0.32811224460601807\n"
     ]
    }
   ],
   "source": [
    "loss, accuracy = model.evaluate(test_data,test_label)\n",
    "\n",
    "print(f\"Accuracy : {accuracy}\")\n",
    "print(f\"Loss     : {loss}\")"
   ],
   "metadata": {
    "collapsed": false,
    "pycharm": {
     "name": "#%%\n"
    }
   }
  }
 ],
 "metadata": {
  "kernelspec": {
   "display_name": "Python 3",
   "language": "python",
   "name": "python3"
  },
  "language_info": {
   "codemirror_mode": {
    "name": "ipython",
    "version": 2
   },
   "file_extension": ".py",
   "mimetype": "text/x-python",
   "name": "python",
   "nbconvert_exporter": "python",
   "pygments_lexer": "ipython2",
   "version": "2.7.6"
  }
 },
 "nbformat": 4,
 "nbformat_minor": 0
}